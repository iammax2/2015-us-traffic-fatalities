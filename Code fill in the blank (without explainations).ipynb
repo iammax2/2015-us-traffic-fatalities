{
 "cells": [
  {
   "cell_type": "code",
   "execution_count": null,
   "metadata": {
    "collapsed": false
   },
   "outputs": [],
   "source": [
    "%matplotlib notebook\n",
    "import pandas as pd\n",
    "import matplotlib.pyplot as plt\n",
    "import numpy as np\n",
    "\n",
    "ACC = pd.read_csv(\"ACC_AUX.CSV\") \n",
    "ACC1 = ACC[[\"A_REGION\", \"###CCC###\"]] \n",
    "ACC2 = ACC1.sort_values(by=[\"A_REGION\"])\n",
    "ACC2[\"###CCC###\"].replace(2, 0, inplace=True)\n",
    "# ACC2[\"###CCC###\"].replace(3, 0, inplace=True) #include if there are three options\n",
    "\n",
    "def data_frame_split(number):\n",
    "    return ACC2[ACC2[\"A_REGION\"] == number]\n",
    "    \n",
    "def just_empty_list():\n",
    "    empty_list = [data_frame_split(x) for x in range(1,11)]\n",
    "    return empty_list\n",
    "\n",
    "def list_sums_part_1(number):  \n",
    "    list_1 = just_empty_list()\n",
    "    return sum(list_1[number][\"###CCC###\"])\n",
    "\n",
    "def list_of_sums(): \n",
    "    final = [list_sums_part_1(x) for x in range(0,10)]\n",
    "    return final\n",
    "\n",
    "def length_of_list(number): \n",
    "    list_1 = just_empty_list()\n",
    "    lol = len(list_1[number])\n",
    "    return lol\n",
    "\n",
    "def list_of_lol(): \n",
    "    list_of_lol = [length_of_list(x) for x in range(0,10)]\n",
    "    return list_of_lol\n",
    "\n",
    "def weighted_list():\n",
    "    lista = list_of_sums()\n",
    "    listb = list_of_lol()\n",
    "    final = [a/b for a,b in zip(lista,listb)]\n",
    "    return final\n",
    "\n",
    "list_x_varible = list(range(1,11)) \n",
    "weighted_ratios_y_varible = weighted_list() \n",
    "\n",
    "plt.xlabel(\"Region 1 through 10\")\n",
    "plt.ylabel(\"### y label ###\")\n",
    "plt.title(\"### title ###\") \n",
    "plt.xticks(np.arange(min(list_x_varible), max(list_x_varible)+1, 1.0))\n",
    "ax = plt.subplot(111) \n",
    "barWidth = .75\n",
    "ax.bar(list_x_varible, weighted_ratios_y_varible, width=barWidth, align='center', color = \"### color ###\", alpha = .6) "
   ]
  }
 ],
 "metadata": {
  "anaconda-cloud": {},
  "kernelspec": {
   "display_name": "Python [Root]",
   "language": "python",
   "name": "Python [Root]"
  },
  "language_info": {
   "codemirror_mode": {
    "name": "ipython",
    "version": 3
   },
   "file_extension": ".py",
   "mimetype": "text/x-python",
   "name": "python",
   "nbconvert_exporter": "python",
   "pygments_lexer": "ipython3",
   "version": "3.5.2"
  }
 },
 "nbformat": 4,
 "nbformat_minor": 0
}
