{
 "cells": [
  {
   "cell_type": "code",
   "execution_count": null,
   "metadata": {
    "collapsed": false
   },
   "outputs": [],
   "source": [
    "#This code is designed to find the weighted ratios of a quality (user selected) and different regions in the ACC_AUX.CSV data,\n",
    "#and then graph said data in a bar graph. Every place the column qaulity is found in the code will have a \"###CCC###'. \n",
    "#Fill in these spots to run the code. Also, the y label, title, and color of the graph are left for the user to fill in. \n",
    "#They also have the \"### ###\" within the various functions to indicate user input.\n",
    "\n",
    "%matplotlib notebook\n",
    "import pandas as pd\n",
    "import matplotlib.pyplot as plt\n",
    "import numpy as np\n",
    "\n",
    "ACC = pd.read_csv(\"ACC_AUX.CSV\") #reads the file\n",
    "ACC1 = ACC[[\"A_REGION\", \"###CCC###\"]] #isolate the relevant columns from the original data\n",
    "ACC2 = ACC1.sort_values(by=[\"A_REGION\"]) #sort numerically by region\n",
    "ACC2[\"###CCC###\"].replace(2, 0, inplace=True) #replace 2s with 0s\n",
    "# ACC2[\"###CCC###\"].replace(3, 0, inplace=True) #include if there are three options\n",
    "\n",
    "def data_frame_split(number): #split data frame by region\n",
    "    return ACC2[ACC2[\"A_REGION\"] == number]\n",
    "    \n",
    "def just_empty_list(): #put each separated region into a list\n",
    "    empty_list = [data_frame_split(x) for x in range(1,11)]\n",
    "    return empty_list\n",
    "\n",
    "def list_sums_part_1(number): #find the sum of 1's in a given region's matched column \n",
    "    list_1 = just_empty_list()\n",
    "    return sum(list_1[number][\"###CCC###\"])\n",
    "\n",
    "def list_of_sums(): #create a list of said sums in each region\n",
    "    final = [list_sums_part_1(x) for x in range(0,10)]\n",
    "    return final\n",
    "\n",
    "def length_of_list(number): #find the length of each list (needed to calculate ratios)\n",
    "    list_1 = just_empty_list()\n",
    "    lol = len(list_1[number])\n",
    "    return lol\n",
    "\n",
    "def list_of_lol(): #create a list of the lengths of each dataset\n",
    "    list_of_lol = [length_of_list(x) for x in range(0,10)]\n",
    "    return list_of_lol\n",
    "\n",
    "def weighted_list(): #find the weighted ratios of each element by region\n",
    "    lista = list_of_sums()\n",
    "    listb = list_of_lol()\n",
    "    final = [a/b for a,b in zip(lista,listb)]\n",
    "    return final\n",
    "\n",
    "list_x_varible = list(range(1,11)) #creates list 1 through 10\n",
    "weighted_ratios_y_varible = weighted_list() #stores a varible to the list of weighted ratios\n",
    "\n",
    "plt.xlabel(\"Region 1 through 10\") #x-label for bar graph\n",
    "plt.ylabel(\"### y label ###\") #y-label for bar graph\n",
    "plt.title(\"### title ###\") #title of the bar graph\n",
    "plt.xticks(np.arange(min(list_x_varible), max(list_x_varible)+1, 1.0)) #lists x-ticks by 1's\n",
    "ax = plt.subplot(111) #setting 'ax' varible for later command\n",
    "barWidth = .75 #setting bar width to be used in next command\n",
    "ax.bar(list_x_varible, weighted_ratios_y_varible, width=barWidth, align='center', color = \"### color ###\", alpha = .6) \n",
    "#^the function that actual graphs the bar chart^"
   ]
  }
 ],
 "metadata": {
  "anaconda-cloud": {},
  "kernelspec": {
   "display_name": "Python [Root]",
   "language": "python",
   "name": "Python [Root]"
  },
  "language_info": {
   "codemirror_mode": {
    "name": "ipython",
    "version": 3
   },
   "file_extension": ".py",
   "mimetype": "text/x-python",
   "name": "python",
   "nbconvert_exporter": "python",
   "pygments_lexer": "ipython3",
   "version": "3.5.2"
  }
 },
 "nbformat": 4,
 "nbformat_minor": 0
}
